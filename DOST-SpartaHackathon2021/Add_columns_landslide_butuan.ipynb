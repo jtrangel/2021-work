{
  "nbformat": 4,
  "nbformat_minor": 0,
  "metadata": {
    "colab": {
      "name": "Add_columns_landslide_butuan.ipynb",
      "provenance": [],
      "authorship_tag": "ABX9TyPVLy4mzaa3FxSWgQ5EolJa",
      "include_colab_link": true
    },
    "kernelspec": {
      "name": "python3",
      "display_name": "Python 3"
    },
    "language_info": {
      "name": "python"
    }
  },
  "cells": [
    {
      "cell_type": "markdown",
      "metadata": {
        "id": "view-in-github",
        "colab_type": "text"
      },
      "source": [
        "<a href=\"https://colab.research.google.com/github/jtrangel/Sparta-Hackathon-Butuan-/blob/main/Add_columns_landslide_butuan.ipynb\" target=\"_parent\"><img src=\"https://colab.research.google.com/assets/colab-badge.svg\" alt=\"Open In Colab\"/></a>"
      ]
    },
    {
      "cell_type": "code",
      "metadata": {
        "id": "HkiSRqx9-ilc"
      },
      "source": [
        "import pandas as pd\n",
        "import numpy as np\n",
        "\n",
        "landslide = pd.read_csv('eil_butuan.csv')"
      ],
      "execution_count": 16,
      "outputs": []
    },
    {
      "cell_type": "code",
      "metadata": {
        "colab": {
          "base_uri": "https://localhost:8080/"
        },
        "id": "j9plTKYM-1-Z",
        "outputId": "38e65848-1798-40ff-e1a3-915b4afbcd0f"
      },
      "source": [
        "print(landslide.shape)\n",
        "print(landslide.columns)\n",
        "features = ['bngy','Shape_Area','_count','_majority']\n",
        "details = landslide[features]\n",
        "print(details)"
      ],
      "execution_count": 14,
      "outputs": [
        {
          "output_type": "stream",
          "text": [
            "(86, 61)\n",
            "Index(['OBJECTID', 'ISO', 'NAME_0', 'NAME_1', 'VARNAME_1', 'NL_NAME_1',\n",
            "       'HASC_1', 'FIPS_1', 'CC_1', 'TYPE_1', 'ENGTYPE_1', 'VALIDFR_1',\n",
            "       'VALIDTO_1', 'REMARKS_1', 'NAME_2', 'VARNAME_2', 'NL_NAME_2', 'HASC_2',\n",
            "       'FIPS_2', 'CC_2', 'TYPE_2', 'ENGTYPE_2', 'VALIDFR_2', 'VALIDTO_2',\n",
            "       'REMARKS_2', 'NAME_3', 'VARNAME_3', 'NL_NAME_3', 'HASC_3', 'TYPE_3',\n",
            "       'ENGTYPE_3', 'VALIDFR_3', 'VALIDTO_3', 'REMARKS_3', 'NAME_4',\n",
            "       'VARNAME_4', 'TYPE_4', 'ENGTYPE_4', 'VALIDFR_4', 'VALIDTO_4',\n",
            "       'REMARKS_4', 'NAME_5', 'TYPE_5', 'ENGTYPE_5', 'VALIDFR_5', 'VALIDTO_5',\n",
            "       'Shape_Leng', 'Shape_Area', 'bngy', 'psgc_bgy', '_count', '_sum',\n",
            "       '_mean', '_median', '_stdev', '_min', '_max', '_range', '_minority',\n",
            "       '_majority', '_variety'],\n",
            "      dtype='object')\n",
            "                 bngy  Shape_Area  _count  _majority\n",
            "0             Mandamo    0.000957    11.0        205\n",
            "1             Dankias    0.000571     6.0        213\n",
            "2            Baobaoan    0.001057     9.0        213\n",
            "3            Anticala    0.002370    25.0        186\n",
            "4            Cabcabon    0.000462     5.0        213\n",
            "..                ...         ...     ...        ...\n",
            "81           Maguinda    0.001307    16.0         38\n",
            "82            Florida    0.001491    18.0        213\n",
            "83  Manila de Bugabus    0.001728    17.0         38\n",
            "84            Bugabus    0.000678     7.0        213\n",
            "85          San Mateo    0.000349     6.0        213\n",
            "\n",
            "[86 rows x 4 columns]\n"
          ],
          "name": "stdout"
        }
      ]
    },
    {
      "cell_type": "code",
      "metadata": {
        "id": "byQFVvNXCjqT"
      },
      "source": [
        "Intensity = []\n",
        "Susceptibility = []\n",
        "criteria = details['_majority']\n",
        "for n in range(landslide.shape[0]):\n",
        "  if criteria[n] < 100: #38,41,54\n",
        "    string1 = 'Low'    #Low Susceptibility\n",
        "    string2 = 'MMI-8'  #Modified Mercali Intensity\n",
        "  elif criteria[n] == 186: #186\n",
        "    string1 = 'Medium' #Medium Susceptibility\n",
        "    string2 = 'MMI-9'  \n",
        "  elif criteria[n] > 200: #213,218\n",
        "    string1 = 'None'   #No Susceptibility\n",
        "    string2 = 'Not Susceptible' \n",
        "  Susceptibility.append(string1)\n",
        "  Intensity.append(string2)"
      ],
      "execution_count": 48,
      "outputs": []
    },
    {
      "cell_type": "code",
      "metadata": {
        "id": "iTeiwfjwHAM1"
      },
      "source": [
        "landslide['Susceptibility'] = Susceptibility\n",
        "landslide['Intensity'] = Intensity"
      ],
      "execution_count": 49,
      "outputs": []
    },
    {
      "cell_type": "code",
      "metadata": {
        "colab": {
          "base_uri": "https://localhost:8080/"
        },
        "id": "uc9snZA9H1cD",
        "outputId": "1fede4cd-03d7-4dc9-c33d-5d8426f41c13"
      },
      "source": [
        "print(landslide)"
      ],
      "execution_count": 50,
      "outputs": [
        {
          "output_type": "stream",
          "text": [
            "    OBJECTID  ISO     NAME_0  ... _variety  Susceptibility        Intensity\n",
            "0      71375  PHL  Pilipinas  ...        9            None  Not Susceptible\n",
            "1      71388  PHL  Pilipinas  ...        1            None  Not Susceptible\n",
            "2      74106  PHL  Pilipinas  ...        1            None  Not Susceptible\n",
            "3      74108  PHL  Pilipinas  ...       16          Medium            MMI-9\n",
            "4      74189  PHL  Pilipinas  ...        1            None  Not Susceptible\n",
            "..       ...  ...        ...  ...      ...             ...              ...\n",
            "81     74661  PHL  Pilipinas  ...        9             Low            MMI-8\n",
            "82     74673  PHL  Pilipinas  ...        6            None  Not Susceptible\n",
            "83     74678  PHL  Pilipinas  ...        7             Low            MMI-8\n",
            "84     74685  PHL  Pilipinas  ...        2            None  Not Susceptible\n",
            "85     74740  PHL  Pilipinas  ...        1            None  Not Susceptible\n",
            "\n",
            "[86 rows x 63 columns]\n"
          ],
          "name": "stdout"
        }
      ]
    },
    {
      "cell_type": "code",
      "metadata": {
        "id": "8d2MG_1tIetN"
      },
      "source": [
        "landslide.to_csv('landslide_susceptibility.csv', header=True)"
      ],
      "execution_count": 53,
      "outputs": []
    }
  ]
}
