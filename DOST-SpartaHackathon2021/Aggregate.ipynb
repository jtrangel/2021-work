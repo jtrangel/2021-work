{
  "nbformat": 4,
  "nbformat_minor": 0,
  "metadata": {
    "colab": {
      "name": "Aggregate.ipynb",
      "provenance": [],
      "collapsed_sections": []
    },
    "kernelspec": {
      "name": "python3",
      "display_name": "Python 3"
    },
    "language_info": {
      "name": "python"
    }
  },
  "cells": [
    {
      "cell_type": "code",
      "metadata": {
        "id": "3p5zbs7Magcx"
      },
      "source": [
        "import pandas as pd"
      ],
      "execution_count": 1,
      "outputs": []
    },
    {
      "cell_type": "code",
      "metadata": {
        "id": "mt0vXbWKajcX"
      },
      "source": [
        "bldgs = pd.read_csv('Building_count.csv')\n",
        "poi = pd.read_csv('POI_count.csv')\n",
        "roads = pd.read_csv('Road_length_count.csv')\n",
        "landslide = pd.read_csv('landslide_susceptibility.csv')\n",
        "ndvi = pd.read_csv('ndvi_butuan.csv')\n",
        "ntl = pd.read_csv('ntl_butuan.csv')\n",
        "pop = pd.read_csv('population_butuan.csv')\n",
        "settle = pd.read_csv('settlement_butuan.csv')\n",
        "#gsh1 = pd.read_csv('gsh1.csv')\n",
        "#gsh2 = pd.read_csv('gsh2.csv')"
      ],
      "execution_count": 2,
      "outputs": []
    },
    {
      "cell_type": "code",
      "metadata": {
        "id": "rH6oN_ffXPft"
      },
      "source": [
        "bldgs.rename(columns = {\"NUMPOINTS\": \"bldg count\"}, inplace=True)\n",
        "features = ['OBJECTID','NAME_0','NAME_1','NAME_2','Shape_Area','bngy','psgc_bgy','bldg count']\n",
        "df = bldgs[features]"
      ],
      "execution_count": 3,
      "outputs": []
    },
    {
      "cell_type": "code",
      "metadata": {
        "id": "itRzPd0oYqQd"
      },
      "source": [
        "pd.options.mode.chained_assignment = None #Supress warning\n",
        "poi_f = poi[['NUMPOINTS']].copy(deep=True) #Avoid cause of warning (chained assignment)\n",
        "df['POIs'] = poi_f\n",
        "\n",
        "road_f = roads[['COUNT']].copy(deep=True)\n",
        "df['roads'] = road_f\n",
        "\n",
        "landslide_f = landslide[['Susceptibility','Intensity']].copy(deep=True) #\n",
        "df = df.assign(lslide_suscep = landslide_f['Susceptibility'], lslide_intensity = landslide_f['Intensity'])\n",
        "\n",
        "ndvi_f = ndvi['_mean'].copy(deep=True)\n",
        "df['ndvi_mean'] = ndvi_f\n",
        "\n",
        "ntl_f = ntl['_mean'].copy(deep=True)\n",
        "df['ntl_mean'] = ntl_f\n",
        "\n",
        "pop_f = pop['_sum'].copy(deep=True)\n",
        "df['pop_total'] = pop_f\n",
        "\n",
        "settle_f = settle['_count'].copy(deep=True)\n",
        "df['settlements'] = settle_f\n",
        "\n",
        "#gsh1_f = gsh1['_mean'].copy(deep=True)\n",
        "#df['gsh1_mean'] = gsh1_f\n",
        "\n",
        "#gsh2_f = gsh2['_mean'].copy(deep=True)\n",
        "#df['gsh2_mean'] = gsh2_f"
      ],
      "execution_count": 4,
      "outputs": []
    },
    {
      "cell_type": "code",
      "metadata": {
        "colab": {
          "base_uri": "https://localhost:8080/"
        },
        "id": "eNFYhtPfdNXL",
        "outputId": "8db95783-3322-40c1-e317-92877423e1a0"
      },
      "source": [
        "print(df.columns)"
      ],
      "execution_count": 5,
      "outputs": [
        {
          "output_type": "stream",
          "text": [
            "Index(['OBJECTID', 'NAME_0', 'NAME_1', 'NAME_2', 'Shape_Area', 'bngy',\n",
            "       'psgc_bgy', 'bldg count', 'POIs', 'roads', 'lslide_suscep',\n",
            "       'lslide_intensity', 'ndvi_mean', 'ntl_mean', 'pop_total',\n",
            "       'settlements'],\n",
            "      dtype='object')\n"
          ],
          "name": "stdout"
        }
      ]
    },
    {
      "cell_type": "code",
      "metadata": {
        "colab": {
          "base_uri": "https://localhost:8080/"
        },
        "id": "Y_imF35XYXlc",
        "outputId": "49d42a3d-bf12-4496-b080-01ccdf4906db"
      },
      "source": [
        "print(df)"
      ],
      "execution_count": 6,
      "outputs": [
        {
          "output_type": "stream",
          "text": [
            "    OBJECTID     NAME_0            NAME_1  ...  ntl_mean    pop_total settlements\n",
            "0      71375  Pilipinas  Agusan del Norte  ...  0.182356   965.562772        47.0\n",
            "1      71388  Pilipinas  Agusan del Norte  ...  0.253161  1262.494687       267.0\n",
            "2      74106  Pilipinas  Agusan del Norte  ...  0.349667  1660.256801       430.0\n",
            "3      74108  Pilipinas  Agusan del Norte  ...  0.194380  3431.806623        55.0\n",
            "4      74189  Pilipinas  Agusan del Norte  ...  0.298964  1965.304758       119.0\n",
            "..       ...        ...               ...  ...       ...          ...         ...\n",
            "81     74661  Pilipinas  Agusan del Norte  ...  0.219051  3348.494791       277.0\n",
            "82     74673  Pilipinas  Agusan del Norte  ...  0.192557  2471.584353       141.0\n",
            "83     74678  Pilipinas  Agusan del Norte  ...  0.225426  3552.501969       323.0\n",
            "84     74685  Pilipinas  Agusan del Norte  ...  0.342132  1447.276058       104.0\n",
            "85     74740  Pilipinas  Agusan del Norte  ...  0.245565  2304.960688       111.0\n",
            "\n",
            "[86 rows x 16 columns]\n"
          ],
          "name": "stdout"
        }
      ]
    },
    {
      "cell_type": "code",
      "metadata": {
        "id": "Mn2ByDnnbHoQ"
      },
      "source": [
        "df.to_csv('Aggregated.csv',header=True)"
      ],
      "execution_count": 7,
      "outputs": []
    }
  ]
}