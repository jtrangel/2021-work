{
  "nbformat": 4,
  "nbformat_minor": 0,
  "metadata": {
    "colab": {
      "name": "Aggregate.ipynb",
      "provenance": [],
      "collapsed_sections": []
    },
    "kernelspec": {
      "name": "python3",
      "display_name": "Python 3"
    },
    "language_info": {
      "name": "python"
    }
  },
  "cells": [
    {
      "cell_type": "code",
      "metadata": {
        "id": "3p5zbs7Magcx"
      },
      "source": [
        "import pandas as pd"
      ],
      "execution_count": 67,
      "outputs": []
    },
    {
      "cell_type": "code",
      "metadata": {
        "id": "mt0vXbWKajcX"
      },
      "source": [
        "bldgs = pd.read_csv('Building_count.csv')\n",
        "poi = pd.read_csv('POI_count.csv')\n",
        "roads = pd.read_csv('Road_length_count.csv')\n",
        "landslide = pd.read_csv('landslide_susceptibility.csv')\n",
        "ndvi = pd.read_csv('ndvi_butuan.csv')\n",
        "ntl = pd.read_csv('ntl_butuan.csv')\n",
        "pop = pd.read_csv('population_butuan.csv')\n",
        "settle = pd.read_csv('settlement_butuan.csv')\n",
        "#gsh1 = pd.read_csv('gsh1.csv')\n",
        "#gsh2 = pd.read_csv('gsh2.csv')"
      ],
      "execution_count": 68,
      "outputs": []
    },
    {
      "cell_type": "code",
      "metadata": {
        "id": "rH6oN_ffXPft"
      },
      "source": [
        "bldgs.rename(columns = {\"NUMPOINTS\": \"bldg count\"}, inplace=True)\n",
        "features = ['OBJECTID','NAME_0','NAME_1','NAME_2','Shape_Area','bngy','psgc_bgy','bldg count']\n",
        "df = bldgs[features]"
      ],
      "execution_count": 69,
      "outputs": []
    },
    {
      "cell_type": "code",
      "metadata": {
        "id": "itRzPd0oYqQd"
      },
      "source": [
        "pd.options.mode.chained_assignment = None #Supress warning\n",
        "poi_f = poi[['NUMPOINTS']].copy(deep=True) #Avoid cause of warning (chained assignment)\n",
        "df['POIs'] = poi_f\n",
        "\n",
        "road_f = roads[['COUNT']].copy(deep=True)\n",
        "df['roads'] = road_f\n",
        "\n",
        "landslide_f = landslide[['Susceptibility','Intensity']].copy(deep=True) #\n",
        "df = df.assign(lslide_suscep = landslide_f['Susceptibility'], lslide_intensity = landslide_f['Intensity'])\n",
        "\n",
        "ndvi_f = ndvi['_mean'].copy(deep=True)\n",
        "df['ndvi_mean'] = ndvi_f\n",
        "\n",
        "ntl_f = ntl['_mean'].copy(deep=True)\n",
        "df['ntl_mean'] = ntl_f\n",
        "\n",
        "pop_f = pop['_mean'].copy(deep=True)\n",
        "df['pop_mean'] = pop_f\n",
        "\n",
        "settle_f = settle['_count'].copy(deep=True)\n",
        "df['settlement_mean'] = settle_f\n",
        "\n",
        "#gsh1_f = gsh1['_mean'].copy(deep=True)\n",
        "#df['gsh1_mean'] = gsh1_f\n",
        "\n",
        "#gsh2_f = gsh2['_mean'].copy(deep=True)\n",
        "#df['gsh2_mean'] = gsh2_f"
      ],
      "execution_count": 70,
      "outputs": []
    },
    {
      "cell_type": "code",
      "metadata": {
        "colab": {
          "base_uri": "https://localhost:8080/"
        },
        "id": "eNFYhtPfdNXL",
        "outputId": "c9f380f4-a1a8-4f59-88f5-d505735c6836"
      },
      "source": [
        "print(df.columns)"
      ],
      "execution_count": 71,
      "outputs": [
        {
          "output_type": "stream",
          "text": [
            "Index(['OBJECTID', 'NAME_0', 'NAME_1', 'NAME_2', 'Shape_Area', 'bngy',\n",
            "       'psgc_bgy', 'bldg count', 'POIs', 'roads', 'lslide_suscep',\n",
            "       'lslide_intensity', 'ndvi_mean', 'ntl_mean', 'pop_mean',\n",
            "       'settlement_mean'],\n",
            "      dtype='object')\n"
          ],
          "name": "stdout"
        }
      ]
    },
    {
      "cell_type": "code",
      "metadata": {
        "colab": {
          "base_uri": "https://localhost:8080/"
        },
        "id": "Y_imF35XYXlc",
        "outputId": "6158effe-1338-4eae-bce4-6db4aec676ba"
      },
      "source": [
        "print(df)"
      ],
      "execution_count": 72,
      "outputs": [
        {
          "output_type": "stream",
          "text": [
            "    OBJECTID     NAME_0            NAME_1  ...  ntl_mean   pop_mean settlement_mean\n",
            "0      71375  Pilipinas  Agusan del Norte  ...  0.182356  20.543889            47.0\n",
            "1      71388  Pilipinas  Agusan del Norte  ...  0.253161   4.728445           267.0\n",
            "2      74106  Pilipinas  Agusan del Norte  ...  0.349667   3.861062           430.0\n",
            "3      74108  Pilipinas  Agusan del Norte  ...  0.194380  62.396484            55.0\n",
            "4      74189  Pilipinas  Agusan del Norte  ...  0.298964  16.515166           119.0\n",
            "..       ...        ...               ...  ...       ...        ...             ...\n",
            "81     74661  Pilipinas  Agusan del Norte  ...  0.219051  12.088429           277.0\n",
            "82     74673  Pilipinas  Agusan del Norte  ...  0.192557  17.528967           141.0\n",
            "83     74678  Pilipinas  Agusan del Norte  ...  0.225426  10.998458           323.0\n",
            "84     74685  Pilipinas  Agusan del Norte  ...  0.342132  13.916116           104.0\n",
            "85     74740  Pilipinas  Agusan del Norte  ...  0.245565  20.765412           111.0\n",
            "\n",
            "[86 rows x 16 columns]\n"
          ],
          "name": "stdout"
        }
      ]
    },
    {
      "cell_type": "code",
      "metadata": {
        "id": "Mn2ByDnnbHoQ"
      },
      "source": [
        "df.to_csv('Aggregated.csv',header=True)"
      ],
      "execution_count": 74,
      "outputs": []
    }
  ]
}